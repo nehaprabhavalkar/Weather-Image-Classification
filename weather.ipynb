{
  "nbformat": 4,
  "nbformat_minor": 0,
  "metadata": {
    "colab": {
      "name": "weather",
      "provenance": [],
      "collapsed_sections": []
    },
    "kernelspec": {
      "name": "python3",
      "display_name": "Python 3"
    },
    "accelerator": "GPU"
  },
  "cells": [
    {
      "cell_type": "code",
      "metadata": {
        "id": "Fb4dDTfFVxh9",
        "colab_type": "code",
        "colab": {}
      },
      "source": [
        "import numpy as np\n",
        "import pandas as pd \n",
        "import matplotlib.pyplot as plt \n",
        "from sklearn.model_selection import train_test_split\n",
        "from keras.models import Sequential\n",
        "from keras.layers import Conv2D, MaxPool2D, Dense, Flatten, Dropout\n",
        "from keras.utils import np_utils\n",
        "from keras.preprocessing.image import img_to_array, array_to_img, ImageDataGenerator\n",
        "from keras.optimizers import RMSprop\n",
        "import os\n",
        "import cv2\n",
        "from random import shuffle"
      ],
      "execution_count": 226,
      "outputs": []
    },
    {
      "cell_type": "code",
      "metadata": {
        "id": "n0cGejTy_wr6",
        "colab_type": "code",
        "colab": {}
      },
      "source": [
        "# 0 cloudy\n",
        "# 1 rain\n",
        "# 2 shine \n",
        "# 3 sunrise \n",
        "\n",
        "training_data = []\n"
      ],
      "execution_count": 227,
      "outputs": []
    },
    {
      "cell_type": "code",
      "metadata": {
        "id": "z5kL627uFOn9",
        "colab_type": "code",
        "colab": {}
      },
      "source": [
        "def create_dataset(folder_dir,n):\n",
        "  path = folder_dir \n",
        "  for image in os.listdir(path):\n",
        "    try:\n",
        "      img = cv2.imread(os.path.join(path,image))\n",
        "      resize_img = cv2.resize(img, (224, 224)) \n",
        "      training_data.append([resize_img, n]) \n",
        "    except Exception as e:\n",
        "      pass"
      ],
      "execution_count": 228,
      "outputs": []
    },
    {
      "cell_type": "code",
      "metadata": {
        "id": "qefVOWj5pM8F",
        "colab_type": "code",
        "colab": {}
      },
      "source": [
        "create_dataset('/content/drive/My Drive/weather/cloudy',0)"
      ],
      "execution_count": 229,
      "outputs": []
    },
    {
      "cell_type": "code",
      "metadata": {
        "id": "eA-qtlUlIEsX",
        "colab_type": "code",
        "colab": {}
      },
      "source": [
        "create_dataset('/content/drive/My Drive/weather/rain',1)"
      ],
      "execution_count": 230,
      "outputs": []
    },
    {
      "cell_type": "code",
      "metadata": {
        "id": "vkzNJNO1JrPp",
        "colab_type": "code",
        "colab": {}
      },
      "source": [
        "create_dataset('/content/drive/My Drive/weather/shine',2)"
      ],
      "execution_count": 231,
      "outputs": []
    },
    {
      "cell_type": "code",
      "metadata": {
        "id": "BhJnlJQLJtLP",
        "colab_type": "code",
        "colab": {}
      },
      "source": [
        "create_dataset('/content/drive/My Drive/weather/sunrise',3)"
      ],
      "execution_count": 232,
      "outputs": []
    },
    {
      "cell_type": "code",
      "metadata": {
        "id": "afYdpEFlI_o-",
        "colab_type": "code",
        "colab": {
          "base_uri": "https://localhost:8080/",
          "height": 34
        },
        "outputId": "f460a4fc-17fd-4daf-bb47-f073a325f2ff"
      },
      "source": [
        "len(training_data)"
      ],
      "execution_count": 233,
      "outputs": [
        {
          "output_type": "execute_result",
          "data": {
            "text/plain": [
              "1123"
            ]
          },
          "metadata": {
            "tags": []
          },
          "execution_count": 233
        }
      ]
    },
    {
      "cell_type": "code",
      "metadata": {
        "id": "WrFOdKWpW9HB",
        "colab_type": "code",
        "colab": {}
      },
      "source": [
        "shuffle(training_data)"
      ],
      "execution_count": 234,
      "outputs": []
    },
    {
      "cell_type": "code",
      "metadata": {
        "id": "deThbHWPHkW-",
        "colab_type": "code",
        "colab": {}
      },
      "source": [
        "X = []\n",
        "y = []"
      ],
      "execution_count": 235,
      "outputs": []
    },
    {
      "cell_type": "code",
      "metadata": {
        "id": "55TBVV_AFxKc",
        "colab_type": "code",
        "colab": {}
      },
      "source": [
        "for features,labels in training_data:\n",
        "    X.append(features)\n",
        "    y.append(labels)"
      ],
      "execution_count": 236,
      "outputs": []
    },
    {
      "cell_type": "code",
      "metadata": {
        "id": "aJlao7SSLTqn",
        "colab_type": "code",
        "colab": {}
      },
      "source": [
        "X = np.array(X).reshape(-1, 224, 224, 3)"
      ],
      "execution_count": 237,
      "outputs": []
    },
    {
      "cell_type": "code",
      "metadata": {
        "id": "uM3dXeaxHh91",
        "colab_type": "code",
        "colab": {}
      },
      "source": [
        "y = np.array(y).reshape(-1,1)"
      ],
      "execution_count": 238,
      "outputs": []
    },
    {
      "cell_type": "code",
      "metadata": {
        "id": "pRhvvOpKMb_7",
        "colab_type": "code",
        "colab": {}
      },
      "source": [
        "X_train , X_test , Y_train , Y_test = train_test_split(X,y,test_size=0.2,random_state=0)"
      ],
      "execution_count": 239,
      "outputs": []
    },
    {
      "cell_type": "code",
      "metadata": {
        "id": "sNWbBMVWMvPT",
        "colab_type": "code",
        "colab": {}
      },
      "source": [
        "X_train = X_train.astype('float32')\n",
        "X_test = X_test.astype('float32')"
      ],
      "execution_count": 240,
      "outputs": []
    },
    {
      "cell_type": "code",
      "metadata": {
        "id": "jGroQcVwM2u_",
        "colab_type": "code",
        "colab": {}
      },
      "source": [
        "X_train = X_train/255.0\n",
        "X_test = X_test/255.0"
      ],
      "execution_count": 241,
      "outputs": []
    },
    {
      "cell_type": "code",
      "metadata": {
        "id": "KKE2m7T_N5vO",
        "colab_type": "code",
        "colab": {}
      },
      "source": [
        "Y_train = np_utils.to_categorical(Y_train)\n",
        "Y_test = np_utils.to_categorical(Y_test)"
      ],
      "execution_count": 242,
      "outputs": []
    },
    {
      "cell_type": "code",
      "metadata": {
        "id": "3285TCA4YTxd",
        "colab_type": "code",
        "colab": {}
      },
      "source": [
        "model = Sequential()\n",
        "model.add(Conv2D(input_shape=(224,224,3),filters=64,kernel_size=(3,3),padding='same', activation='relu'))\n",
        "model.add(Conv2D(filters=64,kernel_size=(3,3),padding='same', activation='relu'))\n",
        "model.add(MaxPool2D(pool_size=(2,2),strides=(2,2)))\n",
        "model.add(Dropout(0.25))\n",
        "model.add(Conv2D(filters=128, kernel_size=(3,3), padding='same', activation='relu'))\n",
        "model.add(Conv2D(filters=128, kernel_size=(3,3), padding='same', activation='relu'))\n",
        "model.add(MaxPool2D(pool_size=(2,2),strides=(2,2)))\n",
        "model.add(Dropout(0.25))\n",
        "model.add(Conv2D(filters=64, kernel_size=(3,3), padding='same', activation='relu'))\n",
        "model.add(Conv2D(filters=64, kernel_size=(3,3), padding='same', activation='relu'))\n",
        "model.add(MaxPool2D(pool_size=(2,2),strides=(2,2)))\n",
        "model.add(Flatten())\n",
        "model.add(Dense(4, activation='softmax'))\n",
        "\n",
        "opt = RMSprop()\n",
        "\n",
        "model.compile(optimizer = opt , loss ='categorical_crossentropy', metrics=['accuracy'])"
      ],
      "execution_count": 243,
      "outputs": []
    },
    {
      "cell_type": "code",
      "metadata": {
        "id": "fviN1-GnZluj",
        "colab_type": "code",
        "colab": {
          "base_uri": "https://localhost:8080/",
          "height": 595
        },
        "outputId": "bdb6bc97-d9a1-408f-b356-1e7d27b6e042"
      },
      "source": [
        "model.summary()"
      ],
      "execution_count": 244,
      "outputs": [
        {
          "output_type": "stream",
          "text": [
            "Model: \"sequential_12\"\n",
            "_________________________________________________________________\n",
            "Layer (type)                 Output Shape              Param #   \n",
            "=================================================================\n",
            "conv2d_141 (Conv2D)          (None, 224, 224, 64)      1792      \n",
            "_________________________________________________________________\n",
            "conv2d_142 (Conv2D)          (None, 224, 224, 64)      36928     \n",
            "_________________________________________________________________\n",
            "max_pooling2d_52 (MaxPooling (None, 112, 112, 64)      0         \n",
            "_________________________________________________________________\n",
            "dropout_9 (Dropout)          (None, 112, 112, 64)      0         \n",
            "_________________________________________________________________\n",
            "conv2d_143 (Conv2D)          (None, 112, 112, 128)     73856     \n",
            "_________________________________________________________________\n",
            "conv2d_144 (Conv2D)          (None, 112, 112, 128)     147584    \n",
            "_________________________________________________________________\n",
            "max_pooling2d_53 (MaxPooling (None, 56, 56, 128)       0         \n",
            "_________________________________________________________________\n",
            "dropout_10 (Dropout)         (None, 56, 56, 128)       0         \n",
            "_________________________________________________________________\n",
            "conv2d_145 (Conv2D)          (None, 56, 56, 64)        73792     \n",
            "_________________________________________________________________\n",
            "conv2d_146 (Conv2D)          (None, 56, 56, 64)        36928     \n",
            "_________________________________________________________________\n",
            "max_pooling2d_54 (MaxPooling (None, 28, 28, 64)        0         \n",
            "_________________________________________________________________\n",
            "flatten_12 (Flatten)         (None, 50176)             0         \n",
            "_________________________________________________________________\n",
            "dense_23 (Dense)             (None, 4)                 200708    \n",
            "=================================================================\n",
            "Total params: 571,588\n",
            "Trainable params: 571,588\n",
            "Non-trainable params: 0\n",
            "_________________________________________________________________\n"
          ],
          "name": "stdout"
        }
      ]
    },
    {
      "cell_type": "code",
      "metadata": {
        "id": "EOEfeptDZDST",
        "colab_type": "code",
        "colab": {}
      },
      "source": [
        "datagen = ImageDataGenerator(\n",
        "        rotation_range=10,\n",
        "        width_shift_range=0.2,\n",
        "        height_shift_range=0.2,\n",
        "        shear_range=0.2,\n",
        "        zoom_range=0.2,\n",
        "        fill_mode='nearest',  \n",
        "        horizontal_flip=True,  \n",
        "        vertical_flip=True)  \n",
        "\n",
        "datagen.fit(X_train)"
      ],
      "execution_count": 245,
      "outputs": []
    },
    {
      "cell_type": "code",
      "metadata": {
        "id": "fj96_yvfb05r",
        "colab_type": "code",
        "colab": {
          "base_uri": "https://localhost:8080/",
          "height": 697
        },
        "outputId": "61017e71-2ea3-4d6a-a36c-621b81b68cf1"
      },
      "source": [
        "fit_model = model.fit_generator(datagen.flow(X_train,Y_train, batch_size=50),\n",
        "                              epochs = 20, validation_data = (X_test,Y_test),\n",
        "                              verbose = 2)"
      ],
      "execution_count": 246,
      "outputs": [
        {
          "output_type": "stream",
          "text": [
            "Epoch 1/20\n",
            " - 20s - loss: 3.0366 - accuracy: 0.3953 - val_loss: 0.9374 - val_accuracy: 0.4978\n",
            "Epoch 2/20\n",
            " - 19s - loss: 0.8954 - accuracy: 0.5746 - val_loss: 0.7309 - val_accuracy: 0.6711\n",
            "Epoch 3/20\n",
            " - 18s - loss: 0.8507 - accuracy: 0.6169 - val_loss: 0.7735 - val_accuracy: 0.7333\n",
            "Epoch 4/20\n",
            " - 18s - loss: 0.7415 - accuracy: 0.6704 - val_loss: 0.5826 - val_accuracy: 0.7378\n",
            "Epoch 5/20\n",
            " - 18s - loss: 1.0822 - accuracy: 0.6570 - val_loss: 0.6103 - val_accuracy: 0.7422\n",
            "Epoch 6/20\n",
            " - 18s - loss: 0.5974 - accuracy: 0.7249 - val_loss: 0.6515 - val_accuracy: 0.7867\n",
            "Epoch 7/20\n",
            " - 18s - loss: 0.6553 - accuracy: 0.7272 - val_loss: 0.5562 - val_accuracy: 0.7556\n",
            "Epoch 8/20\n",
            " - 18s - loss: 0.6505 - accuracy: 0.7383 - val_loss: 0.6384 - val_accuracy: 0.7956\n",
            "Epoch 9/20\n",
            " - 18s - loss: 0.6468 - accuracy: 0.7639 - val_loss: 0.5974 - val_accuracy: 0.7467\n",
            "Epoch 10/20\n",
            " - 18s - loss: 0.5378 - accuracy: 0.7817 - val_loss: 0.6054 - val_accuracy: 0.7600\n",
            "Epoch 11/20\n",
            " - 18s - loss: 0.6004 - accuracy: 0.7661 - val_loss: 0.5896 - val_accuracy: 0.7600\n",
            "Epoch 12/20\n",
            " - 18s - loss: 1.0359 - accuracy: 0.7506 - val_loss: 0.5707 - val_accuracy: 0.7422\n",
            "Epoch 13/20\n",
            " - 18s - loss: 0.5115 - accuracy: 0.7873 - val_loss: 0.5676 - val_accuracy: 0.7733\n",
            "Epoch 14/20\n",
            " - 18s - loss: 0.5412 - accuracy: 0.7940 - val_loss: 0.7107 - val_accuracy: 0.7689\n",
            "Epoch 15/20\n",
            " - 18s - loss: 0.4778 - accuracy: 0.8252 - val_loss: 0.5182 - val_accuracy: 0.8000\n",
            "Epoch 16/20\n",
            " - 18s - loss: 0.4685 - accuracy: 0.8207 - val_loss: 0.4546 - val_accuracy: 0.7911\n",
            "Epoch 17/20\n",
            " - 18s - loss: 0.5282 - accuracy: 0.8062 - val_loss: 0.4604 - val_accuracy: 0.8578\n",
            "Epoch 18/20\n",
            " - 18s - loss: 0.4223 - accuracy: 0.8396 - val_loss: 0.4081 - val_accuracy: 0.8711\n",
            "Epoch 19/20\n",
            " - 18s - loss: 0.6848 - accuracy: 0.8073 - val_loss: 0.4584 - val_accuracy: 0.8667\n",
            "Epoch 20/20\n",
            " - 18s - loss: 0.3953 - accuracy: 0.8519 - val_loss: 0.3107 - val_accuracy: 0.9022\n"
          ],
          "name": "stdout"
        }
      ]
    },
    {
      "cell_type": "code",
      "metadata": {
        "id": "Wn6MYmqnflmd",
        "colab_type": "code",
        "colab": {
          "base_uri": "https://localhost:8080/",
          "height": 295
        },
        "outputId": "7089819e-512f-45f9-e16a-538d664b3326"
      },
      "source": [
        "acc = fit_model.history['accuracy']\n",
        "val_acc = fit_model.history['val_accuracy']\n",
        "epochs = range(1, len(acc) + 1)\n",
        "plt.title('Training and Validation accuracy')\n",
        "plt.plot(epochs, acc, 'blue')\n",
        "plt.xlabel('Training accuracy')\n",
        "plt.plot(epochs, val_acc, 'red')\n",
        "plt.ylabel('Validation accuracy')\n",
        "plt.show()"
      ],
      "execution_count": 247,
      "outputs": [
        {
          "output_type": "display_data",
          "data": {
            "image/png": "[encoded data removed]",
            "text/plain": [
              "<Figure size 432x288 with 1 Axes>"
            ]
          },
          "metadata": {
            "tags": [],
            "needs_background": "light"
          }
        }
      ]
    },
    {
      "cell_type": "code",
      "metadata": {
        "id": "2h2zHABxR7Ai",
        "colab_type": "code",
        "colab": {}
      },
      "source": [
        "def perform_test(folder_dir):\n",
        "  test_image_path = folder_dir\n",
        "  img = cv2.imread(test_image_path)\n",
        "  test_img = cv2.resize(img, (224, 224))\n",
        "  test_img = test_img.reshape(-1,224,224,3)\n",
        "  test_img = test_img.astype('float32')\n",
        "  test_img = test_img/255.0\n",
        "  y_pred = model.predict_classes(test_img)\n",
        "  return y_pred"
      ],
      "execution_count": 248,
      "outputs": []
    },
    {
      "cell_type": "code",
      "metadata": {
        "id": "CV6yMzc6e6uX",
        "colab_type": "code",
        "colab": {
          "base_uri": "https://localhost:8080/",
          "height": 34
        },
        "outputId": "771cf633-0d92-48e7-aa55-b2b0df3373bd"
      },
      "source": [
        "pred_class = perform_test('/content/drive/My Drive/testimage3.jpg')\n",
        "if pred_class == 0:\n",
        "  print('Çloudy')\n",
        "if pred_class == 1:\n",
        "  print('Rain')\n",
        "if pred_class == 2:\n",
        "  print('Shine')\n",
        "if pred_class == 3:\n",
        "  print('Sunrise')\n"
      ],
      "execution_count": 249,
      "outputs": [
        {
          "output_type": "stream",
          "text": [
            "Sunrise\n"
          ],
          "name": "stdout"
        }
      ]
    },
    {
      "cell_type": "code",
      "metadata": {
        "id": "jlYa2y71wfQx",
        "colab_type": "code",
        "colab": {}
      },
      "source": [
        ""
      ],
      "execution_count": null,
      "outputs": []
    }
  ]
}