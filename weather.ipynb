{
  "nbformat": 4,
  "nbformat_minor": 0,
  "metadata": {
    "colab": {
      "name": "weather",
      "provenance": [],
      "collapsed_sections": []
    },
    "kernelspec": {
      "name": "python3",
      "display_name": "Python 3"
    },
    "accelerator": "GPU"
  },
  "cells": [
    {
      "cell_type": "code",
      "metadata": {
        "id": "Fb4dDTfFVxh9",
        "colab_type": "code",
        "colab": {}
      },
      "source": [
        "import numpy as np\n",
        "import pandas as pd \n",
        "import matplotlib.pyplot as plt \n",
        "from sklearn.model_selection import train_test_split\n",
        "from keras.models import Sequential\n",
        "from keras.layers import Conv2D, MaxPool2D, Dense, Flatten, Dropout\n",
        "from keras.utils import np_utils\n",
        "from keras.preprocessing.image import img_to_array, array_to_img, ImageDataGenerator\n",
        "from keras.optimizers import RMSprop\n",
        "import os\n",
        "import cv2\n",
        "from random import shuffle"
      ],
      "execution_count": 251,
      "outputs": []
    },
    {
      "cell_type": "code",
      "metadata": {
        "id": "n0cGejTy_wr6",
        "colab_type": "code",
        "colab": {}
      },
      "source": [
        "# 0 cloudy\n",
        "# 1 rain\n",
        "# 2 shine \n",
        "# 3 sunrise \n",
        "\n",
        "training_data = []\n"
      ],
      "execution_count": 252,
      "outputs": []
    },
    {
      "cell_type": "code",
      "metadata": {
        "id": "z5kL627uFOn9",
        "colab_type": "code",
        "colab": {}
      },
      "source": [
        "def create_dataset(folder_dir,n):\n",
        "  path = folder_dir \n",
        "  for image in os.listdir(path):\n",
        "    try:\n",
        "      img = cv2.imread(os.path.join(path,image))\n",
        "      resize_img = cv2.resize(img, (224, 224)) \n",
        "      training_data.append([resize_img, n]) \n",
        "    except Exception as e:\n",
        "      pass"
      ],
      "execution_count": 253,
      "outputs": []
    },
    {
      "cell_type": "code",
      "metadata": {
        "id": "qefVOWj5pM8F",
        "colab_type": "code",
        "colab": {}
      },
      "source": [
        "create_dataset('/content/drive/My Drive/weather/cloudy',0)"
      ],
      "execution_count": 254,
      "outputs": []
    },
    {
      "cell_type": "code",
      "metadata": {
        "id": "eA-qtlUlIEsX",
        "colab_type": "code",
        "colab": {}
      },
      "source": [
        "create_dataset('/content/drive/My Drive/weather/rain',1)"
      ],
      "execution_count": 255,
      "outputs": []
    },
    {
      "cell_type": "code",
      "metadata": {
        "id": "vkzNJNO1JrPp",
        "colab_type": "code",
        "colab": {}
      },
      "source": [
        "create_dataset('/content/drive/My Drive/weather/shine',2)"
      ],
      "execution_count": 256,
      "outputs": []
    },
    {
      "cell_type": "code",
      "metadata": {
        "id": "BhJnlJQLJtLP",
        "colab_type": "code",
        "colab": {}
      },
      "source": [
        "create_dataset('/content/drive/My Drive/weather/sunrise',3)"
      ],
      "execution_count": 257,
      "outputs": []
    },
    {
      "cell_type": "code",
      "metadata": {
        "id": "afYdpEFlI_o-",
        "colab_type": "code",
        "colab": {
          "base_uri": "https://localhost:8080/",
          "height": 34
        },
        "outputId": "b1559ec5-34e9-4159-c305-d0f8f1687a67"
      },
      "source": [
        "len(training_data)"
      ],
      "execution_count": 258,
      "outputs": [
        {
          "output_type": "execute_result",
          "data": {
            "text/plain": [
              "1123"
            ]
          },
          "metadata": {
            "tags": []
          },
          "execution_count": 258
        }
      ]
    },
    {
      "cell_type": "code",
      "metadata": {
        "id": "WrFOdKWpW9HB",
        "colab_type": "code",
        "colab": {}
      },
      "source": [
        "shuffle(training_data)"
      ],
      "execution_count": 259,
      "outputs": []
    },
    {
      "cell_type": "code",
      "metadata": {
        "id": "deThbHWPHkW-",
        "colab_type": "code",
        "colab": {}
      },
      "source": [
        "X = []\n",
        "y = []"
      ],
      "execution_count": 260,
      "outputs": []
    },
    {
      "cell_type": "code",
      "metadata": {
        "id": "55TBVV_AFxKc",
        "colab_type": "code",
        "colab": {}
      },
      "source": [
        "for features,labels in training_data:\n",
        "    X.append(features)\n",
        "    y.append(labels)"
      ],
      "execution_count": 261,
      "outputs": []
    },
    {
      "cell_type": "code",
      "metadata": {
        "id": "aJlao7SSLTqn",
        "colab_type": "code",
        "colab": {}
      },
      "source": [
        "X = np.array(X).reshape(-1, 224, 224, 3)"
      ],
      "execution_count": 262,
      "outputs": []
    },
    {
      "cell_type": "code",
      "metadata": {
        "id": "uM3dXeaxHh91",
        "colab_type": "code",
        "colab": {}
      },
      "source": [
        "y = np.array(y).reshape(-1,1)"
      ],
      "execution_count": 263,
      "outputs": []
    },
    {
      "cell_type": "code",
      "metadata": {
        "id": "pRhvvOpKMb_7",
        "colab_type": "code",
        "colab": {}
      },
      "source": [
        "X_train , X_test , Y_train , Y_test = train_test_split(X,y,test_size=0.2,random_state=0)"
      ],
      "execution_count": 264,
      "outputs": []
    },
    {
      "cell_type": "code",
      "metadata": {
        "id": "sNWbBMVWMvPT",
        "colab_type": "code",
        "colab": {}
      },
      "source": [
        "X_train = X_train.astype('float32')\n",
        "X_test = X_test.astype('float32')"
      ],
      "execution_count": 265,
      "outputs": []
    },
    {
      "cell_type": "code",
      "metadata": {
        "id": "jGroQcVwM2u_",
        "colab_type": "code",
        "colab": {}
      },
      "source": [
        "X_train = X_train/255.0\n",
        "X_test = X_test/255.0"
      ],
      "execution_count": 266,
      "outputs": []
    },
    {
      "cell_type": "code",
      "metadata": {
        "id": "KKE2m7T_N5vO",
        "colab_type": "code",
        "colab": {}
      },
      "source": [
        "Y_train = np_utils.to_categorical(Y_train)\n",
        "Y_test = np_utils.to_categorical(Y_test)"
      ],
      "execution_count": 267,
      "outputs": []
    },
    {
      "cell_type": "code",
      "metadata": {
        "id": "3285TCA4YTxd",
        "colab_type": "code",
        "colab": {}
      },
      "source": [
        "model = Sequential()\n",
        "model.add(Conv2D(input_shape=(224,224,3),filters=64,kernel_size=(3,3),padding='same', activation='relu'))\n",
        "model.add(Conv2D(filters=64,kernel_size=(3,3),padding='same', activation='relu'))\n",
        "model.add(MaxPool2D(pool_size=(2,2),strides=(2,2)))\n",
        "model.add(Dropout(0.25))\n",
        "\n",
        "model.add(Conv2D(filters=128, kernel_size=(3,3), padding='same', activation='relu'))\n",
        "model.add(Conv2D(filters=128, kernel_size=(3,3), padding='same', activation='relu'))\n",
        "model.add(MaxPool2D(pool_size=(2,2),strides=(2,2)))\n",
        "model.add(Dropout(0.25))\n",
        "\n",
        "model.add(Conv2D(filters=64, kernel_size=(3,3), padding='same', activation='relu'))\n",
        "model.add(Conv2D(filters=64, kernel_size=(3,3), padding='same', activation='relu'))\n",
        "model.add(MaxPool2D(pool_size=(2,2),strides=(2,2)))\n",
        "model.add(Flatten())\n",
        "model.add(Dense(4, activation='softmax'))\n",
        "\n",
        "opt = RMSprop()\n",
        "\n",
        "model.compile(optimizer = opt , loss ='categorical_crossentropy', metrics=['accuracy'])"
      ],
      "execution_count": 268,
      "outputs": []
    },
    {
      "cell_type": "code",
      "metadata": {
        "id": "fviN1-GnZluj",
        "colab_type": "code",
        "colab": {
          "base_uri": "https://localhost:8080/",
          "height": 595
        },
        "outputId": "a73f9bd5-402f-4d40-d4d8-0eccfd216ac7"
      },
      "source": [
        "model.summary()"
      ],
      "execution_count": 269,
      "outputs": [
        {
          "output_type": "stream",
          "text": [
            "Model: \"sequential_13\"\n",
            "_________________________________________________________________\n",
            "Layer (type)                 Output Shape              Param #   \n",
            "=================================================================\n",
            "conv2d_147 (Conv2D)          (None, 224, 224, 64)      1792      \n",
            "_________________________________________________________________\n",
            "conv2d_148 (Conv2D)          (None, 224, 224, 64)      36928     \n",
            "_________________________________________________________________\n",
            "max_pooling2d_55 (MaxPooling (None, 112, 112, 64)      0         \n",
            "_________________________________________________________________\n",
            "dropout_11 (Dropout)         (None, 112, 112, 64)      0         \n",
            "_________________________________________________________________\n",
            "conv2d_149 (Conv2D)          (None, 112, 112, 128)     73856     \n",
            "_________________________________________________________________\n",
            "conv2d_150 (Conv2D)          (None, 112, 112, 128)     147584    \n",
            "_________________________________________________________________\n",
            "max_pooling2d_56 (MaxPooling (None, 56, 56, 128)       0         \n",
            "_________________________________________________________________\n",
            "dropout_12 (Dropout)         (None, 56, 56, 128)       0         \n",
            "_________________________________________________________________\n",
            "conv2d_151 (Conv2D)          (None, 56, 56, 64)        73792     \n",
            "_________________________________________________________________\n",
            "conv2d_152 (Conv2D)          (None, 56, 56, 64)        36928     \n",
            "_________________________________________________________________\n",
            "max_pooling2d_57 (MaxPooling (None, 28, 28, 64)        0         \n",
            "_________________________________________________________________\n",
            "flatten_13 (Flatten)         (None, 50176)             0         \n",
            "_________________________________________________________________\n",
            "dense_24 (Dense)             (None, 4)                 200708    \n",
            "=================================================================\n",
            "Total params: 571,588\n",
            "Trainable params: 571,588\n",
            "Non-trainable params: 0\n",
            "_________________________________________________________________\n"
          ],
          "name": "stdout"
        }
      ]
    },
    {
      "cell_type": "code",
      "metadata": {
        "id": "EOEfeptDZDST",
        "colab_type": "code",
        "colab": {}
      },
      "source": [
        "datagen = ImageDataGenerator(\n",
        "        rotation_range=10,\n",
        "        width_shift_range=0.2,\n",
        "        height_shift_range=0.2,\n",
        "        shear_range=0.2,\n",
        "        zoom_range=0.2,\n",
        "        fill_mode='nearest',  \n",
        "        horizontal_flip=True,  \n",
        "        vertical_flip=True)  \n",
        "\n",
        "datagen.fit(X_train)"
      ],
      "execution_count": 270,
      "outputs": []
    },
    {
      "cell_type": "code",
      "metadata": {
        "id": "fj96_yvfb05r",
        "colab_type": "code",
        "colab": {
          "base_uri": "https://localhost:8080/",
          "height": 697
        },
        "outputId": "bc57587e-5c7c-4026-de1d-6425c7b88ebe"
      },
      "source": [
        "fit_model = model.fit_generator(datagen.flow(X_train,Y_train, batch_size=50),\n",
        "                              epochs = 20, validation_data = (X_test,Y_test),\n",
        "                              verbose = 2)"
      ],
      "execution_count": 271,
      "outputs": [
        {
          "output_type": "stream",
          "text": [
            "Epoch 1/20\n",
            " - 20s - loss: 3.2672 - accuracy: 0.3608 - val_loss: 0.9446 - val_accuracy: 0.6133\n",
            "Epoch 2/20\n",
            " - 19s - loss: 0.9204 - accuracy: 0.5679 - val_loss: 0.9734 - val_accuracy: 0.5244\n",
            "Epoch 3/20\n",
            " - 18s - loss: 0.8504 - accuracy: 0.6503 - val_loss: 0.7240 - val_accuracy: 0.7644\n",
            "Epoch 4/20\n",
            " - 18s - loss: 0.8334 - accuracy: 0.6481 - val_loss: 0.7231 - val_accuracy: 0.7022\n",
            "Epoch 5/20\n",
            " - 18s - loss: 0.7382 - accuracy: 0.6860 - val_loss: 0.8682 - val_accuracy: 0.5778\n",
            "Epoch 6/20\n",
            " - 18s - loss: 0.7052 - accuracy: 0.7116 - val_loss: 0.7828 - val_accuracy: 0.6178\n",
            "Epoch 7/20\n",
            " - 18s - loss: 0.6663 - accuracy: 0.7305 - val_loss: 0.9778 - val_accuracy: 0.6311\n",
            "Epoch 8/20\n",
            " - 18s - loss: 0.6561 - accuracy: 0.7439 - val_loss: 0.6596 - val_accuracy: 0.7200\n",
            "Epoch 9/20\n",
            " - 18s - loss: 0.6356 - accuracy: 0.7450 - val_loss: 0.4961 - val_accuracy: 0.8133\n",
            "Epoch 10/20\n",
            " - 18s - loss: 0.6106 - accuracy: 0.7305 - val_loss: 0.4961 - val_accuracy: 0.8311\n",
            "Epoch 11/20\n",
            " - 18s - loss: 0.6336 - accuracy: 0.7472 - val_loss: 0.4709 - val_accuracy: 0.8178\n",
            "Epoch 12/20\n",
            " - 18s - loss: 0.5142 - accuracy: 0.7762 - val_loss: 0.5080 - val_accuracy: 0.7689\n",
            "Epoch 13/20\n",
            " - 18s - loss: 0.6005 - accuracy: 0.7550 - val_loss: 0.4662 - val_accuracy: 0.8133\n",
            "Epoch 14/20\n",
            " - 18s - loss: 0.6459 - accuracy: 0.7706 - val_loss: 0.4486 - val_accuracy: 0.8311\n",
            "Epoch 15/20\n",
            " - 18s - loss: 0.8372 - accuracy: 0.7851 - val_loss: 0.4262 - val_accuracy: 0.8311\n",
            "Epoch 16/20\n",
            " - 18s - loss: 0.5419 - accuracy: 0.7862 - val_loss: 0.5610 - val_accuracy: 0.7911\n",
            "Epoch 17/20\n",
            " - 18s - loss: 0.5014 - accuracy: 0.8096 - val_loss: 0.5634 - val_accuracy: 0.7867\n",
            "Epoch 18/20\n",
            " - 18s - loss: 0.4557 - accuracy: 0.8252 - val_loss: 0.5638 - val_accuracy: 0.8444\n",
            "Epoch 19/20\n",
            " - 18s - loss: 0.6475 - accuracy: 0.7617 - val_loss: 0.4748 - val_accuracy: 0.8400\n",
            "Epoch 20/20\n",
            " - 18s - loss: 0.4904 - accuracy: 0.8029 - val_loss: 0.5004 - val_accuracy: 0.8222\n"
          ],
          "name": "stdout"
        }
      ]
    },
    {
      "cell_type": "code",
      "metadata": {
        "id": "Wn6MYmqnflmd",
        "colab_type": "code",
        "colab": {
          "base_uri": "https://localhost:8080/",
          "height": 295
        },
        "outputId": "5be570f8-02d5-4ebb-dbf1-b17a5e1d1a1d"
      },
      "source": [
        "acc = fit_model.history['accuracy']\n",
        "val_acc = fit_model.history['val_accuracy']\n",
        "epochs = range(1, len(acc) + 1)\n",
        "plt.title('Training and Validation accuracy')\n",
        "plt.plot(epochs, acc, 'blue')\n",
        "plt.xlabel('No of Epochs')\n",
        "plt.plot(epochs, val_acc, 'red')\n",
        "plt.ylabel('Accuracy')\n",
        "plt.show()"
      ],
      "execution_count": 272,
      "outputs": [
        {
          "output_type": "display_data",
          "data": {
            "image/png": "[encoded data removed]",
            "text/plain": [
              "<Figure size 432x288 with 1 Axes>"
            ]
          },
          "metadata": {
            "tags": [],
            "needs_background": "light"
          }
        }
      ]
    },
    {
      "cell_type": "code",
      "metadata": {
        "id": "2h2zHABxR7Ai",
        "colab_type": "code",
        "colab": {}
      },
      "source": [
        "def perform_test(folder_dir):\n",
        "  test_image_path = folder_dir\n",
        "  img = cv2.imread(test_image_path)\n",
        "  test_img = cv2.resize(img, (224, 224))\n",
        "  test_img = test_img.reshape(-1,224,224,3)\n",
        "  test_img = test_img.astype('float32')\n",
        "  test_img = test_img/255.0\n",
        "  y_pred = model.predict_classes(test_img)\n",
        "  return y_pred"
      ],
      "execution_count": 273,
      "outputs": []
    },
    {
      "cell_type": "code",
      "metadata": {
        "id": "CV6yMzc6e6uX",
        "colab_type": "code",
        "colab": {
          "base_uri": "https://localhost:8080/",
          "height": 34
        },
        "outputId": "c6d43a04-308c-4ae1-9c2c-472e21d37995"
      },
      "source": [
        "pred_class = perform_test('/content/drive/My Drive/testimage3.jpg')\n",
        "if pred_class == 0:\n",
        "  print('Çloudy')\n",
        "if pred_class == 1:\n",
        "  print('Rain')\n",
        "if pred_class == 2:\n",
        "  print('Shine')\n",
        "if pred_class == 3:\n",
        "  print('Sunrise')\n"
      ],
      "execution_count": 274,
      "outputs": [
        {
          "output_type": "stream",
          "text": [
            "Sunrise\n"
          ],
          "name": "stdout"
        }
      ]
    },
    {
      "cell_type": "code",
      "metadata": {
        "id": "jlYa2y71wfQx",
        "colab_type": "code",
        "colab": {}
      },
      "source": [
        ""
      ],
      "execution_count": null,
      "outputs": []
    }
  ]
}